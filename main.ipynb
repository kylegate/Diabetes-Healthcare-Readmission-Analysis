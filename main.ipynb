{
 "cells": [
  {
   "cell_type": "code",
   "id": "initial_id",
   "metadata": {
    "collapsed": true,
    "ExecuteTime": {
     "end_time": "2025-08-25T19:40:36.624203Z",
     "start_time": "2025-08-25T19:40:36.033105Z"
    }
   },
   "source": [
    "import pandas as pd\n",
    "import numpy as np\n",
    "import matplotlib.pyplot as plt\n",
    "from scipy import stats"
   ],
   "outputs": [],
   "execution_count": 133
  },
  {
   "metadata": {},
   "cell_type": "markdown",
   "source": "## 1. Initial Data Loading",
   "id": "c4020c49e5be6e0f"
  },
  {
   "metadata": {},
   "cell_type": "markdown",
   "source": "### 1.1 Data Structure Analysis",
   "id": "da21241e3c069c33"
  },
  {
   "metadata": {},
   "cell_type": "code",
   "outputs": [],
   "execution_count": null,
   "source": "df = pd.read_csv('./data/diabetic_data.csv')",
   "id": "e161cf97664674c9"
  },
  {
   "metadata": {
    "ExecuteTime": {
     "end_time": "2025-08-25T21:08:06.293573Z",
     "start_time": "2025-08-25T21:08:06.276129Z"
    }
   },
   "cell_type": "code",
   "source": "df.head()",
   "id": "da6c633f065b73cf",
   "outputs": [
    {
     "data": {
      "text/plain": [
       "   encounter_id  patient_nbr             race  gender      age  \\\n",
       "0       2278392      8222157        Caucasian  Female   [0-10)   \n",
       "1        149190     55629189        Caucasian  Female  [10-20)   \n",
       "2         64410     86047875  AfricanAmerican  Female  [20-30)   \n",
       "3        500364     82442376        Caucasian    Male  [30-40)   \n",
       "4         16680     42519267        Caucasian    Male  [40-50)   \n",
       "\n",
       "   admission_type_id  discharge_disposition_id  admission_source_id  \\\n",
       "0                  6                        25                    1   \n",
       "1                  1                         1                    7   \n",
       "2                  1                         1                    7   \n",
       "3                  1                         1                    7   \n",
       "4                  1                         1                    7   \n",
       "\n",
       "   time_in_hospital         medical_specialty  ...  citoglipton  insulin  \\\n",
       "0                 1  Pediatrics-Endocrinology  ...           No       No   \n",
       "1                 3                       NaN  ...           No       Up   \n",
       "2                 2                       NaN  ...           No       No   \n",
       "3                 2                       NaN  ...           No       Up   \n",
       "4                 1                       NaN  ...           No   Steady   \n",
       "\n",
       "   glyburide-metformin  glipizide-metformin  glimepiride-pioglitazone  \\\n",
       "0                   No                   No                        No   \n",
       "1                   No                   No                        No   \n",
       "2                   No                   No                        No   \n",
       "3                   No                   No                        No   \n",
       "4                   No                   No                        No   \n",
       "\n",
       "   metformin-rosiglitazone metformin-pioglitazone change diabetesMed  \\\n",
       "0                       No                     No     No          No   \n",
       "1                       No                     No     Ch         Yes   \n",
       "2                       No                     No     No         Yes   \n",
       "3                       No                     No     Ch         Yes   \n",
       "4                       No                     No     Ch         Yes   \n",
       "\n",
       "   readmitted  \n",
       "0          NO  \n",
       "1         >30  \n",
       "2          NO  \n",
       "3          NO  \n",
       "4          NO  \n",
       "\n",
       "[5 rows x 48 columns]"
      ],
      "text/html": [
       "<div>\n",
       "<style scoped>\n",
       "    .dataframe tbody tr th:only-of-type {\n",
       "        vertical-align: middle;\n",
       "    }\n",
       "\n",
       "    .dataframe tbody tr th {\n",
       "        vertical-align: top;\n",
       "    }\n",
       "\n",
       "    .dataframe thead th {\n",
       "        text-align: right;\n",
       "    }\n",
       "</style>\n",
       "<table border=\"1\" class=\"dataframe\">\n",
       "  <thead>\n",
       "    <tr style=\"text-align: right;\">\n",
       "      <th></th>\n",
       "      <th>encounter_id</th>\n",
       "      <th>patient_nbr</th>\n",
       "      <th>race</th>\n",
       "      <th>gender</th>\n",
       "      <th>age</th>\n",
       "      <th>admission_type_id</th>\n",
       "      <th>discharge_disposition_id</th>\n",
       "      <th>admission_source_id</th>\n",
       "      <th>time_in_hospital</th>\n",
       "      <th>medical_specialty</th>\n",
       "      <th>...</th>\n",
       "      <th>citoglipton</th>\n",
       "      <th>insulin</th>\n",
       "      <th>glyburide-metformin</th>\n",
       "      <th>glipizide-metformin</th>\n",
       "      <th>glimepiride-pioglitazone</th>\n",
       "      <th>metformin-rosiglitazone</th>\n",
       "      <th>metformin-pioglitazone</th>\n",
       "      <th>change</th>\n",
       "      <th>diabetesMed</th>\n",
       "      <th>readmitted</th>\n",
       "    </tr>\n",
       "  </thead>\n",
       "  <tbody>\n",
       "    <tr>\n",
       "      <th>0</th>\n",
       "      <td>2278392</td>\n",
       "      <td>8222157</td>\n",
       "      <td>Caucasian</td>\n",
       "      <td>Female</td>\n",
       "      <td>[0-10)</td>\n",
       "      <td>6</td>\n",
       "      <td>25</td>\n",
       "      <td>1</td>\n",
       "      <td>1</td>\n",
       "      <td>Pediatrics-Endocrinology</td>\n",
       "      <td>...</td>\n",
       "      <td>No</td>\n",
       "      <td>No</td>\n",
       "      <td>No</td>\n",
       "      <td>No</td>\n",
       "      <td>No</td>\n",
       "      <td>No</td>\n",
       "      <td>No</td>\n",
       "      <td>No</td>\n",
       "      <td>No</td>\n",
       "      <td>NO</td>\n",
       "    </tr>\n",
       "    <tr>\n",
       "      <th>1</th>\n",
       "      <td>149190</td>\n",
       "      <td>55629189</td>\n",
       "      <td>Caucasian</td>\n",
       "      <td>Female</td>\n",
       "      <td>[10-20)</td>\n",
       "      <td>1</td>\n",
       "      <td>1</td>\n",
       "      <td>7</td>\n",
       "      <td>3</td>\n",
       "      <td>NaN</td>\n",
       "      <td>...</td>\n",
       "      <td>No</td>\n",
       "      <td>Up</td>\n",
       "      <td>No</td>\n",
       "      <td>No</td>\n",
       "      <td>No</td>\n",
       "      <td>No</td>\n",
       "      <td>No</td>\n",
       "      <td>Ch</td>\n",
       "      <td>Yes</td>\n",
       "      <td>&gt;30</td>\n",
       "    </tr>\n",
       "    <tr>\n",
       "      <th>2</th>\n",
       "      <td>64410</td>\n",
       "      <td>86047875</td>\n",
       "      <td>AfricanAmerican</td>\n",
       "      <td>Female</td>\n",
       "      <td>[20-30)</td>\n",
       "      <td>1</td>\n",
       "      <td>1</td>\n",
       "      <td>7</td>\n",
       "      <td>2</td>\n",
       "      <td>NaN</td>\n",
       "      <td>...</td>\n",
       "      <td>No</td>\n",
       "      <td>No</td>\n",
       "      <td>No</td>\n",
       "      <td>No</td>\n",
       "      <td>No</td>\n",
       "      <td>No</td>\n",
       "      <td>No</td>\n",
       "      <td>No</td>\n",
       "      <td>Yes</td>\n",
       "      <td>NO</td>\n",
       "    </tr>\n",
       "    <tr>\n",
       "      <th>3</th>\n",
       "      <td>500364</td>\n",
       "      <td>82442376</td>\n",
       "      <td>Caucasian</td>\n",
       "      <td>Male</td>\n",
       "      <td>[30-40)</td>\n",
       "      <td>1</td>\n",
       "      <td>1</td>\n",
       "      <td>7</td>\n",
       "      <td>2</td>\n",
       "      <td>NaN</td>\n",
       "      <td>...</td>\n",
       "      <td>No</td>\n",
       "      <td>Up</td>\n",
       "      <td>No</td>\n",
       "      <td>No</td>\n",
       "      <td>No</td>\n",
       "      <td>No</td>\n",
       "      <td>No</td>\n",
       "      <td>Ch</td>\n",
       "      <td>Yes</td>\n",
       "      <td>NO</td>\n",
       "    </tr>\n",
       "    <tr>\n",
       "      <th>4</th>\n",
       "      <td>16680</td>\n",
       "      <td>42519267</td>\n",
       "      <td>Caucasian</td>\n",
       "      <td>Male</td>\n",
       "      <td>[40-50)</td>\n",
       "      <td>1</td>\n",
       "      <td>1</td>\n",
       "      <td>7</td>\n",
       "      <td>1</td>\n",
       "      <td>NaN</td>\n",
       "      <td>...</td>\n",
       "      <td>No</td>\n",
       "      <td>Steady</td>\n",
       "      <td>No</td>\n",
       "      <td>No</td>\n",
       "      <td>No</td>\n",
       "      <td>No</td>\n",
       "      <td>No</td>\n",
       "      <td>Ch</td>\n",
       "      <td>Yes</td>\n",
       "      <td>NO</td>\n",
       "    </tr>\n",
       "  </tbody>\n",
       "</table>\n",
       "<p>5 rows × 48 columns</p>\n",
       "</div>"
      ]
     },
     "execution_count": 147,
     "metadata": {},
     "output_type": "execute_result"
    }
   ],
   "execution_count": 147
  },
  {
   "metadata": {
    "ExecuteTime": {
     "end_time": "2025-08-25T21:08:13.946472Z",
     "start_time": "2025-08-25T21:08:13.938815Z"
    }
   },
   "cell_type": "code",
   "source": "df.shape",
   "id": "381cedc7ba56a7bb",
   "outputs": [
    {
     "data": {
      "text/plain": [
       "(101766, 48)"
      ]
     },
     "execution_count": 148,
     "metadata": {},
     "output_type": "execute_result"
    }
   ],
   "execution_count": 148
  },
  {
   "metadata": {
    "ExecuteTime": {
     "end_time": "2025-08-25T19:32:32.356522Z",
     "start_time": "2025-08-25T19:32:32.349860Z"
    }
   },
   "cell_type": "code",
   "source": "df.dtypes",
   "id": "5235dc43b30b2f55",
   "outputs": [
    {
     "data": {
      "text/plain": [
       "encounter_id                 int64\n",
       "patient_nbr                  int64\n",
       "race                        object\n",
       "gender                      object\n",
       "age                         object\n",
       "weight                      object\n",
       "admission_type_id            int64\n",
       "discharge_disposition_id     int64\n",
       "admission_source_id          int64\n",
       "time_in_hospital             int64\n",
       "payer_code                  object\n",
       "medical_specialty           object\n",
       "num_lab_procedures           int64\n",
       "num_procedures               int64\n",
       "num_medications              int64\n",
       "number_outpatient            int64\n",
       "number_emergency             int64\n",
       "number_inpatient             int64\n",
       "diag_1                      object\n",
       "diag_2                      object\n",
       "diag_3                      object\n",
       "number_diagnoses             int64\n",
       "max_glu_serum               object\n",
       "A1Cresult                   object\n",
       "metformin                   object\n",
       "repaglinide                 object\n",
       "nateglinide                 object\n",
       "chlorpropamide              object\n",
       "glimepiride                 object\n",
       "acetohexamide               object\n",
       "glipizide                   object\n",
       "glyburide                   object\n",
       "tolbutamide                 object\n",
       "pioglitazone                object\n",
       "rosiglitazone               object\n",
       "acarbose                    object\n",
       "miglitol                    object\n",
       "troglitazone                object\n",
       "tolazamide                  object\n",
       "examide                     object\n",
       "citoglipton                 object\n",
       "insulin                     object\n",
       "glyburide-metformin         object\n",
       "glipizide-metformin         object\n",
       "glimepiride-pioglitazone    object\n",
       "metformin-rosiglitazone     object\n",
       "metformin-pioglitazone      object\n",
       "change                      object\n",
       "diabetesMed                 object\n",
       "readmitted                  object\n",
       "dtype: object"
      ]
     },
     "execution_count": 96,
     "metadata": {},
     "output_type": "execute_result"
    }
   ],
   "execution_count": 96
  },
  {
   "metadata": {},
   "cell_type": "markdown",
   "source": [
    "### 1.2 Target Variable Analysis\n",
    "\n",
    "#### Readmission of Patients\n",
    "##### 53.92% No Readmission\n",
    "##### 34.93% Readmission after 30 Days\n",
    "##### 11.16% Readmission before 30 Days"
   ],
   "id": "964980323536bed4"
  },
  {
   "metadata": {
    "ExecuteTime": {
     "end_time": "2025-08-25T19:32:32.411909Z",
     "start_time": "2025-08-25T19:32:32.399440Z"
    }
   },
   "cell_type": "code",
   "source": "df.readmitted.value_counts(normalize=True)",
   "id": "865d972a9baf2301",
   "outputs": [
    {
     "data": {
      "text/plain": [
       "readmitted\n",
       "NO     0.539119\n",
       ">30    0.349282\n",
       "<30    0.111599\n",
       "Name: proportion, dtype: float64"
      ]
     },
     "execution_count": 97,
     "metadata": {},
     "output_type": "execute_result"
    }
   ],
   "execution_count": 97
  },
  {
   "metadata": {},
   "cell_type": "markdown",
   "source": "## 2. Data Quality Assessment",
   "id": "e4c619808097feb7"
  },
  {
   "metadata": {},
   "cell_type": "markdown",
   "source": "### 2.1 Missing Data Analysis",
   "id": "eb49935edd1757c1"
  },
  {
   "metadata": {
    "ExecuteTime": {
     "end_time": "2025-08-25T19:32:32.580965Z",
     "start_time": "2025-08-25T19:32:32.561276Z"
    }
   },
   "cell_type": "code",
   "source": "df.head()",
   "id": "65d8619878fbcdb1",
   "outputs": [
    {
     "data": {
      "text/plain": [
       "   encounter_id  patient_nbr             race  gender      age weight  \\\n",
       "0       2278392      8222157        Caucasian  Female   [0-10)      ?   \n",
       "1        149190     55629189        Caucasian  Female  [10-20)      ?   \n",
       "2         64410     86047875  AfricanAmerican  Female  [20-30)      ?   \n",
       "3        500364     82442376        Caucasian    Male  [30-40)      ?   \n",
       "4         16680     42519267        Caucasian    Male  [40-50)      ?   \n",
       "\n",
       "   admission_type_id  discharge_disposition_id  admission_source_id  \\\n",
       "0                  6                        25                    1   \n",
       "1                  1                         1                    7   \n",
       "2                  1                         1                    7   \n",
       "3                  1                         1                    7   \n",
       "4                  1                         1                    7   \n",
       "\n",
       "   time_in_hospital  ... citoglipton insulin  glyburide-metformin  \\\n",
       "0                 1  ...          No      No                   No   \n",
       "1                 3  ...          No      Up                   No   \n",
       "2                 2  ...          No      No                   No   \n",
       "3                 2  ...          No      Up                   No   \n",
       "4                 1  ...          No  Steady                   No   \n",
       "\n",
       "   glipizide-metformin  glimepiride-pioglitazone  metformin-rosiglitazone  \\\n",
       "0                   No                        No                       No   \n",
       "1                   No                        No                       No   \n",
       "2                   No                        No                       No   \n",
       "3                   No                        No                       No   \n",
       "4                   No                        No                       No   \n",
       "\n",
       "   metformin-pioglitazone  change diabetesMed readmitted  \n",
       "0                      No      No          No         NO  \n",
       "1                      No      Ch         Yes        >30  \n",
       "2                      No      No         Yes         NO  \n",
       "3                      No      Ch         Yes         NO  \n",
       "4                      No      Ch         Yes         NO  \n",
       "\n",
       "[5 rows x 50 columns]"
      ],
      "text/html": [
       "<div>\n",
       "<style scoped>\n",
       "    .dataframe tbody tr th:only-of-type {\n",
       "        vertical-align: middle;\n",
       "    }\n",
       "\n",
       "    .dataframe tbody tr th {\n",
       "        vertical-align: top;\n",
       "    }\n",
       "\n",
       "    .dataframe thead th {\n",
       "        text-align: right;\n",
       "    }\n",
       "</style>\n",
       "<table border=\"1\" class=\"dataframe\">\n",
       "  <thead>\n",
       "    <tr style=\"text-align: right;\">\n",
       "      <th></th>\n",
       "      <th>encounter_id</th>\n",
       "      <th>patient_nbr</th>\n",
       "      <th>race</th>\n",
       "      <th>gender</th>\n",
       "      <th>age</th>\n",
       "      <th>weight</th>\n",
       "      <th>admission_type_id</th>\n",
       "      <th>discharge_disposition_id</th>\n",
       "      <th>admission_source_id</th>\n",
       "      <th>time_in_hospital</th>\n",
       "      <th>...</th>\n",
       "      <th>citoglipton</th>\n",
       "      <th>insulin</th>\n",
       "      <th>glyburide-metformin</th>\n",
       "      <th>glipizide-metformin</th>\n",
       "      <th>glimepiride-pioglitazone</th>\n",
       "      <th>metformin-rosiglitazone</th>\n",
       "      <th>metformin-pioglitazone</th>\n",
       "      <th>change</th>\n",
       "      <th>diabetesMed</th>\n",
       "      <th>readmitted</th>\n",
       "    </tr>\n",
       "  </thead>\n",
       "  <tbody>\n",
       "    <tr>\n",
       "      <th>0</th>\n",
       "      <td>2278392</td>\n",
       "      <td>8222157</td>\n",
       "      <td>Caucasian</td>\n",
       "      <td>Female</td>\n",
       "      <td>[0-10)</td>\n",
       "      <td>?</td>\n",
       "      <td>6</td>\n",
       "      <td>25</td>\n",
       "      <td>1</td>\n",
       "      <td>1</td>\n",
       "      <td>...</td>\n",
       "      <td>No</td>\n",
       "      <td>No</td>\n",
       "      <td>No</td>\n",
       "      <td>No</td>\n",
       "      <td>No</td>\n",
       "      <td>No</td>\n",
       "      <td>No</td>\n",
       "      <td>No</td>\n",
       "      <td>No</td>\n",
       "      <td>NO</td>\n",
       "    </tr>\n",
       "    <tr>\n",
       "      <th>1</th>\n",
       "      <td>149190</td>\n",
       "      <td>55629189</td>\n",
       "      <td>Caucasian</td>\n",
       "      <td>Female</td>\n",
       "      <td>[10-20)</td>\n",
       "      <td>?</td>\n",
       "      <td>1</td>\n",
       "      <td>1</td>\n",
       "      <td>7</td>\n",
       "      <td>3</td>\n",
       "      <td>...</td>\n",
       "      <td>No</td>\n",
       "      <td>Up</td>\n",
       "      <td>No</td>\n",
       "      <td>No</td>\n",
       "      <td>No</td>\n",
       "      <td>No</td>\n",
       "      <td>No</td>\n",
       "      <td>Ch</td>\n",
       "      <td>Yes</td>\n",
       "      <td>&gt;30</td>\n",
       "    </tr>\n",
       "    <tr>\n",
       "      <th>2</th>\n",
       "      <td>64410</td>\n",
       "      <td>86047875</td>\n",
       "      <td>AfricanAmerican</td>\n",
       "      <td>Female</td>\n",
       "      <td>[20-30)</td>\n",
       "      <td>?</td>\n",
       "      <td>1</td>\n",
       "      <td>1</td>\n",
       "      <td>7</td>\n",
       "      <td>2</td>\n",
       "      <td>...</td>\n",
       "      <td>No</td>\n",
       "      <td>No</td>\n",
       "      <td>No</td>\n",
       "      <td>No</td>\n",
       "      <td>No</td>\n",
       "      <td>No</td>\n",
       "      <td>No</td>\n",
       "      <td>No</td>\n",
       "      <td>Yes</td>\n",
       "      <td>NO</td>\n",
       "    </tr>\n",
       "    <tr>\n",
       "      <th>3</th>\n",
       "      <td>500364</td>\n",
       "      <td>82442376</td>\n",
       "      <td>Caucasian</td>\n",
       "      <td>Male</td>\n",
       "      <td>[30-40)</td>\n",
       "      <td>?</td>\n",
       "      <td>1</td>\n",
       "      <td>1</td>\n",
       "      <td>7</td>\n",
       "      <td>2</td>\n",
       "      <td>...</td>\n",
       "      <td>No</td>\n",
       "      <td>Up</td>\n",
       "      <td>No</td>\n",
       "      <td>No</td>\n",
       "      <td>No</td>\n",
       "      <td>No</td>\n",
       "      <td>No</td>\n",
       "      <td>Ch</td>\n",
       "      <td>Yes</td>\n",
       "      <td>NO</td>\n",
       "    </tr>\n",
       "    <tr>\n",
       "      <th>4</th>\n",
       "      <td>16680</td>\n",
       "      <td>42519267</td>\n",
       "      <td>Caucasian</td>\n",
       "      <td>Male</td>\n",
       "      <td>[40-50)</td>\n",
       "      <td>?</td>\n",
       "      <td>1</td>\n",
       "      <td>1</td>\n",
       "      <td>7</td>\n",
       "      <td>1</td>\n",
       "      <td>...</td>\n",
       "      <td>No</td>\n",
       "      <td>Steady</td>\n",
       "      <td>No</td>\n",
       "      <td>No</td>\n",
       "      <td>No</td>\n",
       "      <td>No</td>\n",
       "      <td>No</td>\n",
       "      <td>Ch</td>\n",
       "      <td>Yes</td>\n",
       "      <td>NO</td>\n",
       "    </tr>\n",
       "  </tbody>\n",
       "</table>\n",
       "<p>5 rows × 50 columns</p>\n",
       "</div>"
      ]
     },
     "execution_count": 99,
     "metadata": {},
     "output_type": "execute_result"
    }
   ],
   "execution_count": 99
  },
  {
   "metadata": {},
   "cell_type": "markdown",
   "source": "*Note Dataset used '?' instead of Null*",
   "id": "ab6150295c82f6da"
  },
  {
   "metadata": {
    "ExecuteTime": {
     "end_time": "2025-08-25T19:32:32.911525Z",
     "start_time": "2025-08-25T19:32:32.631266Z"
    }
   },
   "cell_type": "code",
   "source": "df = df.replace({'?': np.nan}) #update null values to null",
   "id": "c0f382c2a9044689",
   "outputs": [],
   "execution_count": 100
  },
  {
   "metadata": {
    "ExecuteTime": {
     "end_time": "2025-08-25T19:32:33.021715Z",
     "start_time": "2025-08-25T19:32:32.911525Z"
    }
   },
   "cell_type": "code",
   "source": "df.isnull().sum().sort_values(ascending=False) / len(df) * 100",
   "id": "3ecfd79eb8f54b4d",
   "outputs": [
    {
     "data": {
      "text/plain": [
       "weight                      96.858479\n",
       "max_glu_serum               94.746772\n",
       "A1Cresult                   83.277322\n",
       "medical_specialty           49.082208\n",
       "payer_code                  39.557416\n",
       "race                         2.233555\n",
       "diag_3                       1.398306\n",
       "diag_2                       0.351787\n",
       "diag_1                       0.020636\n",
       "patient_nbr                  0.000000\n",
       "time_in_hospital             0.000000\n",
       "admission_source_id          0.000000\n",
       "num_lab_procedures           0.000000\n",
       "encounter_id                 0.000000\n",
       "admission_type_id            0.000000\n",
       "discharge_disposition_id     0.000000\n",
       "gender                       0.000000\n",
       "age                          0.000000\n",
       "number_inpatient             0.000000\n",
       "number_emergency             0.000000\n",
       "number_outpatient            0.000000\n",
       "num_medications              0.000000\n",
       "num_procedures               0.000000\n",
       "number_diagnoses             0.000000\n",
       "metformin                    0.000000\n",
       "repaglinide                  0.000000\n",
       "nateglinide                  0.000000\n",
       "chlorpropamide               0.000000\n",
       "glimepiride                  0.000000\n",
       "acetohexamide                0.000000\n",
       "glipizide                    0.000000\n",
       "glyburide                    0.000000\n",
       "tolbutamide                  0.000000\n",
       "pioglitazone                 0.000000\n",
       "rosiglitazone                0.000000\n",
       "acarbose                     0.000000\n",
       "miglitol                     0.000000\n",
       "troglitazone                 0.000000\n",
       "tolazamide                   0.000000\n",
       "examide                      0.000000\n",
       "citoglipton                  0.000000\n",
       "insulin                      0.000000\n",
       "glyburide-metformin          0.000000\n",
       "glipizide-metformin          0.000000\n",
       "glimepiride-pioglitazone     0.000000\n",
       "metformin-rosiglitazone      0.000000\n",
       "metformin-pioglitazone       0.000000\n",
       "change                       0.000000\n",
       "diabetesMed                  0.000000\n",
       "readmitted                   0.000000\n",
       "dtype: float64"
      ]
     },
     "execution_count": 101,
     "metadata": {},
     "output_type": "execute_result"
    }
   ],
   "execution_count": 101
  },
  {
   "metadata": {},
   "cell_type": "markdown",
   "source": "#### 2.1.1 Exploring Type of Missing Data",
   "id": "6811db2eb3cba331"
  },
  {
   "metadata": {},
   "cell_type": "markdown",
   "source": [
    "##### 2.1.1.1 Weight\n",
    "\n",
    "High missing value might be due to the fact that, prior to the HITECH legislation of the American Reinvestment and Recovery Act in 2009, hospitals and clinics were not required to capture it in a structured format.\n"
   ],
   "id": "3b5081568022405f"
  },
  {
   "metadata": {
    "ExecuteTime": {
     "end_time": "2025-08-25T19:32:33.034786Z",
     "start_time": "2025-08-25T19:32:33.022271Z"
    }
   },
   "cell_type": "code",
   "source": "df.weight.value_counts(dropna=False).sort_values(ascending=False) / len(df) * 100",
   "id": "a1b55f8fa95c041",
   "outputs": [
    {
     "data": {
      "text/plain": [
       "weight\n",
       "NaN          96.858479\n",
       "[75-100)      1.312816\n",
       "[50-75)       0.881434\n",
       "[100-125)     0.614154\n",
       "[125-150)     0.142484\n",
       "[25-50)       0.095317\n",
       "[0-25)        0.047167\n",
       "[150-175)     0.034393\n",
       "[175-200)     0.010809\n",
       ">200          0.002948\n",
       "Name: count, dtype: float64"
      ]
     },
     "execution_count": 102,
     "metadata": {},
     "output_type": "execute_result"
    }
   ],
   "execution_count": 102
  },
  {
   "metadata": {},
   "cell_type": "markdown",
   "source": [
    "##### 2.1.1.2 Glucose Serum Test Result\n",
    "Null values as test was not administered"
   ],
   "id": "f10f9dd3d97db145"
  },
  {
   "metadata": {
    "ExecuteTime": {
     "end_time": "2025-08-25T19:32:33.044789Z",
     "start_time": "2025-08-25T19:32:33.034786Z"
    }
   },
   "cell_type": "code",
   "source": "df.max_glu_serum.value_counts(dropna=False).sort_values(ascending=False) / len(df) * 100",
   "id": "44e4b0efa4c42183",
   "outputs": [
    {
     "data": {
      "text/plain": [
       "max_glu_serum\n",
       "NaN     94.746772\n",
       "Norm     2.551933\n",
       ">200     1.459230\n",
       ">300     1.242065\n",
       "Name: count, dtype: float64"
      ]
     },
     "execution_count": 103,
     "metadata": {},
     "output_type": "execute_result"
    }
   ],
   "execution_count": 103
  },
  {
   "metadata": {},
   "cell_type": "markdown",
   "source": [
    "##### 2.1.1.3 A1C Result\n",
    "Null values as test was not administered"
   ],
   "id": "956f33b72ba7fb60"
  },
  {
   "metadata": {
    "ExecuteTime": {
     "end_time": "2025-08-25T19:32:33.054889Z",
     "start_time": "2025-08-25T19:32:33.045717Z"
    }
   },
   "cell_type": "code",
   "source": "df.A1Cresult.value_counts(dropna=False).sort_values(ascending=False) / len(df) * 100",
   "id": "a451c0de01ad7e3e",
   "outputs": [
    {
     "data": {
      "text/plain": [
       "A1Cresult\n",
       "NaN     83.277322\n",
       ">8       8.073423\n",
       "Norm     4.903406\n",
       ">7       3.745848\n",
       "Name: count, dtype: float64"
      ]
     },
     "execution_count": 104,
     "metadata": {},
     "output_type": "execute_result"
    }
   ],
   "execution_count": 104
  },
  {
   "metadata": {},
   "cell_type": "markdown",
   "source": [
    "##### 2.1.1.4 Medical Specialty of Admitting Physician\n",
    "Null values most likely result of unspecialized/general speciality physician"
   ],
   "id": "97a472158a1177c7"
  },
  {
   "metadata": {
    "ExecuteTime": {
     "end_time": "2025-08-25T19:32:33.065944Z",
     "start_time": "2025-08-25T19:32:33.055384Z"
    }
   },
   "cell_type": "code",
   "source": "df.medical_specialty.value_counts(dropna=False).sort_values(ascending=False) / len(df) * 100",
   "id": "de0f3d0bd2b71cff",
   "outputs": [
    {
     "data": {
      "text/plain": [
       "medical_specialty\n",
       "NaN                       49.082208\n",
       "InternalMedicine          14.381031\n",
       "Emergency/Trauma           7.433720\n",
       "Family/GeneralPractice     7.310890\n",
       "Cardiology                 5.259124\n",
       "                            ...    \n",
       "Proctology                 0.000983\n",
       "Speech                     0.000983\n",
       "SportsMedicine             0.000983\n",
       "Perinatology               0.000983\n",
       "Neurophysiology            0.000983\n",
       "Name: count, Length: 73, dtype: float64"
      ]
     },
     "execution_count": 105,
     "metadata": {},
     "output_type": "execute_result"
    }
   ],
   "execution_count": 105
  },
  {
   "metadata": {
    "ExecuteTime": {
     "end_time": "2025-08-25T19:32:33.076889Z",
     "start_time": "2025-08-25T19:32:33.067196Z"
    }
   },
   "cell_type": "code",
   "source": "df.payer_code.value_counts(dropna=False).sort_values(ascending=False) / len(df) * 100",
   "id": "ef6c4d179046d584",
   "outputs": [
    {
     "data": {
      "text/plain": [
       "payer_code\n",
       "NaN    39.557416\n",
       "MC     31.876069\n",
       "HM      6.165124\n",
       "SP      4.920111\n",
       "BC      4.574219\n",
       "MD      3.470707\n",
       "CP      2.489043\n",
       "UN      2.405519\n",
       "CM      1.903386\n",
       "OG      1.015074\n",
       "PO      0.581727\n",
       "DM      0.539473\n",
       "CH      0.143466\n",
       "WC      0.132657\n",
       "OT      0.093351\n",
       "MP      0.077629\n",
       "SI      0.054046\n",
       "FR      0.000983\n",
       "Name: count, dtype: float64"
      ]
     },
     "execution_count": 106,
     "metadata": {},
     "output_type": "execute_result"
    }
   ],
   "execution_count": 106
  },
  {
   "metadata": {
    "ExecuteTime": {
     "end_time": "2025-08-25T19:32:33.102283Z",
     "start_time": "2025-08-25T19:32:33.076889Z"
    }
   },
   "cell_type": "code",
   "source": [
    "import pandas as pd\n",
    "import numpy as np\n",
    "from scipy.stats import chi2_contingency\n",
    "\n",
    "# build contingency table\n",
    "contingency = pd.crosstab(df[\"payer_code\"], df[\"readmitted\"])\n",
    "\n",
    "chi2, p, dof, expected = chi2_contingency(contingency)\n",
    "\n",
    "n = contingency.sum().sum()\n",
    "phi2 = chi2/n\n",
    "r,k = contingency.shape\n",
    "cramers_v = np.sqrt(phi2/min(k-1, r-1))\n",
    "\n",
    "print(\"Cramer's V:\", cramers_v)"
   ],
   "id": "6a0c96be92c9599",
   "outputs": [
    {
     "name": "stdout",
     "output_type": "stream",
     "text": [
      "Cramer's V: 0.06422447751635021\n"
     ]
    }
   ],
   "execution_count": 107
  },
  {
   "metadata": {},
   "cell_type": "markdown",
   "source": "### 2.3 Duplicate Analysis",
   "id": "b58c647c1d66a72c"
  },
  {
   "metadata": {
    "ExecuteTime": {
     "end_time": "2025-08-25T19:32:42.613492Z",
     "start_time": "2025-08-25T19:32:42.429061Z"
    }
   },
   "cell_type": "code",
   "source": "df.duplicated().sum()",
   "id": "38f01ff65b0c1767",
   "outputs": [
    {
     "data": {
      "text/plain": [
       "np.int64(0)"
      ]
     },
     "execution_count": 111,
     "metadata": {},
     "output_type": "execute_result"
    }
   ],
   "execution_count": 111
  },
  {
   "metadata": {},
   "cell_type": "markdown",
   "source": "### 2.4 Outlier Detection",
   "id": "5c98a553f1ead9a3"
  },
  {
   "metadata": {
    "ExecuteTime": {
     "end_time": "2025-08-25T19:37:13.766157Z",
     "start_time": "2025-08-25T19:37:13.723711Z"
    }
   },
   "cell_type": "code",
   "source": [
    "df_numerical = df.select_dtypes(include=[np.number])\n",
    "df_categorical = df.select_dtypes(exclude=[np.number])"
   ],
   "id": "2ff358ca7850d458",
   "outputs": [
    {
     "name": "stdout",
     "output_type": "stream",
     "text": [
      "(101766, 13)\n",
      "(101766, 35)\n",
      "(101766, 48)\n"
     ]
    }
   ],
   "execution_count": 124
  },
  {
   "metadata": {},
   "cell_type": "code",
   "outputs": [],
   "execution_count": null,
   "source": "",
   "id": "188413f39d93612d"
  },
  {
   "metadata": {
    "ExecuteTime": {
     "end_time": "2025-08-25T19:32:33.292697900Z",
     "start_time": "2025-08-25T19:12:03.830767Z"
    }
   },
   "cell_type": "code",
   "source": "",
   "id": "600dd50bdb90cbc2",
   "outputs": [],
   "execution_count": null
  },
  {
   "metadata": {},
   "cell_type": "markdown",
   "source": [
    "4. Data Type Corrections\n",
    "4.1 Categorical Variable Encoding\n",
    "4.2 Numerical Variable Transformations\n",
    "Age groupings\n",
    "Medication counts\n",
    "Length of stay categories\n",
    "5. Export Cleaned Dataset"
   ],
   "id": "d2e539fc5a2309a0"
  },
  {
   "metadata": {},
   "cell_type": "markdown",
   "source": [
    "1. Target Variable Deep Dive\n",
    "1.1 Readmission Rate Analysis\n",
    "\n",
    "# Overall readmission statistics\n",
    "4. Univariate Analysis\n",
    "2.1 Demographic Variables\n",
    "\n",
    "Age distribution and readmission rates\n",
    "Gender patterns\n",
    "Race/ethnicity analysis\n",
    "\n",
    "2.2 Clinical Variables\n",
    "\n",
    "3. Bivariate Analysis\n",
    "3.1 Clinical Factors vs Readmissions\n",
    "3.2 Hospital-Level Analysis\n",
    "3.3 Medication Patterns"
   ],
   "id": "5a0c19528f225de9"
  },
  {
   "metadata": {},
   "cell_type": "markdown",
   "source": [
    "4. Key Statistical Relationships\n",
    "4.1 Correlation Analysis\n",
    "4.2 Chi-square Tests for Categorical Variables\n",
    "4.3 ANOVA for Continuous Variables"
   ],
   "id": "bf4b253afb110ce1"
  },
  {
   "metadata": {},
   "cell_type": "markdown",
   "source": [
    "5. Visualization Summary\n",
    "\n",
    "Key charts and interpretations\n",
    "Most significant findings"
   ],
   "id": "9cf47b415d88fe47"
  },
  {
   "metadata": {},
   "cell_type": "markdown",
   "source": "",
   "id": "8b30379ad9a9184"
  },
  {
   "metadata": {},
   "cell_type": "markdown",
   "source": "## 3. Initial Observations & Data Quality Issues",
   "id": "468f55fb58127402"
  },
  {
   "metadata": {},
   "cell_type": "markdown",
   "source": "### 3.1 Missing Data Treatment",
   "id": "166b277890d4814f"
  },
  {
   "metadata": {},
   "cell_type": "code",
   "outputs": [],
   "execution_count": null,
   "source": "df = df.drop(columns=['weight','payer_code'])",
   "id": "2373d32752ee99fc"
  },
  {
   "metadata": {},
   "cell_type": "markdown",
   "source": "### 3.2 Outlier Treatment",
   "id": "ce554486d9c523ef"
  },
  {
   "metadata": {},
   "cell_type": "code",
   "outputs": [],
   "execution_count": null,
   "source": "",
   "id": "34e278054034c87d"
  },
  {
   "metadata": {},
   "cell_type": "markdown",
   "source": "## 4. Data Type Corrections",
   "id": "4f2b217ecc11d07e"
  },
  {
   "metadata": {},
   "cell_type": "markdown",
   "source": "### 4.1 Categorical Variable Encoding",
   "id": "cb268b6b615c7256"
  },
  {
   "metadata": {},
   "cell_type": "code",
   "outputs": [],
   "execution_count": null,
   "source": "",
   "id": "34a2b2d6567b7e17"
  },
  {
   "metadata": {},
   "cell_type": "markdown",
   "source": "### 4.2 Numerical Variable Transformations",
   "id": "74f9c639823d10c2"
  },
  {
   "metadata": {},
   "cell_type": "code",
   "outputs": [],
   "execution_count": null,
   "source": "",
   "id": "efd20c7005d8bfa9"
  },
  {
   "metadata": {},
   "cell_type": "markdown",
   "source": "## 5. Exploratory Data Analysis",
   "id": "d1d2371491fb66f"
  },
  {
   "metadata": {},
   "cell_type": "code",
   "outputs": [],
   "execution_count": null,
   "source": "",
   "id": "1805fd39c7e0428b"
  },
  {
   "metadata": {},
   "cell_type": "markdown",
   "source": "### 5.1 Univariate Analysis",
   "id": "5426dfd1f2618a9d"
  },
  {
   "metadata": {},
   "cell_type": "markdown",
   "source": "#### 5.1.1 Demographic Variables",
   "id": "244977aa9098983d"
  },
  {
   "metadata": {},
   "cell_type": "code",
   "outputs": [],
   "execution_count": null,
   "source": "",
   "id": "3257a30ff0793f2d"
  },
  {
   "metadata": {},
   "cell_type": "markdown",
   "source": "#### 5.1.2 Clinical Variables",
   "id": "6d4359cbd7f38d"
  },
  {
   "metadata": {},
   "cell_type": "code",
   "outputs": [],
   "execution_count": null,
   "source": "",
   "id": "407a329fcfb1d620"
  },
  {
   "metadata": {},
   "cell_type": "markdown",
   "source": "#### 5.1.3 Operational Variables",
   "id": "ff39451c6ec9201e"
  },
  {
   "metadata": {},
   "cell_type": "code",
   "outputs": [],
   "execution_count": null,
   "source": "",
   "id": "90230f24122e57c8"
  },
  {
   "metadata": {},
   "cell_type": "markdown",
   "source": "### 5.2 Bivariate Analysis",
   "id": "acf2a8aea800ba05"
  },
  {
   "metadata": {},
   "cell_type": "markdown",
   "source": "#### 5.2.1 Clinical Factors vs Readmissions",
   "id": "17df8131eeb5646c"
  },
  {
   "metadata": {},
   "cell_type": "code",
   "outputs": [],
   "execution_count": null,
   "source": "",
   "id": "26248d9403bb46e0"
  },
  {
   "metadata": {},
   "cell_type": "markdown",
   "source": "#### 5.2.2 Hospital-Level Analysis",
   "id": "760a8c67170619da"
  },
  {
   "metadata": {},
   "cell_type": "code",
   "outputs": [],
   "execution_count": null,
   "source": "",
   "id": "dbe9fd700e4f1672"
  },
  {
   "metadata": {},
   "cell_type": "markdown",
   "source": "#### 5.2.3 Medication Patterns",
   "id": "3943b63cd8559acf"
  },
  {
   "metadata": {},
   "cell_type": "code",
   "outputs": [],
   "execution_count": null,
   "source": "",
   "id": "78687c5bc335d4ec"
  },
  {
   "metadata": {},
   "cell_type": "markdown",
   "source": "### 5.3 Key Statistical Relationships",
   "id": "e5cdf6dc976c4330"
  },
  {
   "metadata": {},
   "cell_type": "markdown",
   "source": "#### 5.3.1 Correlation Analysis",
   "id": "fba109a32a9d8350"
  },
  {
   "metadata": {},
   "cell_type": "code",
   "outputs": [],
   "execution_count": null,
   "source": "",
   "id": "c32c10e6889e6c6a"
  },
  {
   "metadata": {},
   "cell_type": "markdown",
   "source": "#### 5.3.2 Chi-square Tests for Categorical Variables",
   "id": "25194e902d24af3a"
  },
  {
   "metadata": {},
   "cell_type": "code",
   "outputs": [],
   "execution_count": null,
   "source": "",
   "id": "a7b8352c5b7178"
  },
  {
   "metadata": {},
   "cell_type": "markdown",
   "source": "#### 5.3.3 ANOVA for Continuous Variables",
   "id": "cbce71e6338b9136"
  },
  {
   "metadata": {},
   "cell_type": "code",
   "outputs": [],
   "execution_count": null,
   "source": "",
   "id": "4920acc833827b52"
  },
  {
   "metadata": {},
   "cell_type": "markdown",
   "source": [
    "### 5.4 Visualization Summary\n",
    "Key charts and interpretations \\\n",
    "Most significant findings"
   ],
   "id": "a88703a7d6e705ad"
  },
  {
   "metadata": {},
   "cell_type": "markdown",
   "source": "## 6. Actionable Recommendations",
   "id": "187f5db7e66a92f"
  },
  {
   "metadata": {},
   "cell_type": "markdown",
   "source": [
    "### 6.1 Clinical Interventions\n",
    "\n",
    "Enhanced discharge planning for high-medication patients\n",
    "Medication reconciliation protocols\n"
   ],
   "id": "8948820cabf8ecca"
  },
  {
   "metadata": {},
   "cell_type": "markdown",
   "source": [
    "### 6.2 Operational Improvements\n",
    "\n",
    "Weekend discharge protocols\n",
    "Risk-based follow-up scheduling\n"
   ],
   "id": "822c48cec1738bd7"
  },
  {
   "metadata": {},
   "cell_type": "markdown",
   "source": [
    "### 6.3 Strategic Initiatives\n",
    "\n",
    "Best practice sharing across hospitals\n",
    "Quality improvement programs"
   ],
   "id": "1cf519b52ce21a8b"
  },
  {
   "metadata": {},
   "cell_type": "markdown",
   "source": [
    "## 7. Success Metrics & Monitoring\n",
    "\n",
    "KPI definitions\n",
    "Monitoring dashboard requirements\n",
    "Review schedule"
   ],
   "id": "71a32cfdd2db6154"
  },
  {
   "metadata": {},
   "cell_type": "markdown",
   "source": [
    "## 8. Limitations & Future Work\n",
    "Data limitations\n",
    "Additional analysis opportunities\n",
    "Long-term research questions"
   ],
   "id": "5195f3d6f0bc7fcd"
  }
 ],
 "metadata": {
  "kernelspec": {
   "display_name": "Python 3",
   "language": "python",
   "name": "python3"
  },
  "language_info": {
   "codemirror_mode": {
    "name": "ipython",
    "version": 2
   },
   "file_extension": ".py",
   "mimetype": "text/x-python",
   "name": "python",
   "nbconvert_exporter": "python",
   "pygments_lexer": "ipython2",
   "version": "2.7.6"
  }
 },
 "nbformat": 4,
 "nbformat_minor": 5
}
